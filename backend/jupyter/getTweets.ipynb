{
 "cells": [
  {
   "cell_type": "code",
   "execution_count": 2,
   "id": "3e50d374",
   "metadata": {
    "pycharm": {
     "name": "#%%\n"
    }
   },
   "outputs": [],
   "source": [
    "from library import Twitter\n",
    "import pandas as pd"
   ]
  },
  {
   "cell_type": "code",
   "execution_count": 3,
   "id": "9e3e9ed5",
   "metadata": {
    "pycharm": {
     "name": "#%%\n"
    }
   },
   "outputs": [
    {
     "name": "stdout",
     "output_type": "stream",
     "text": [
      "Mot clés obligatoires du tweet \n",
      "karmine\n",
      "Language du tweet recherché\n",
      "fr\n",
      "Nombre de tweets recupérés maximum\n",
      "10\n",
      "searching : https://api.twitter.com/2/tweets/search/recent?query=karmine%20-is%3Aretweet%20lang%3Afr&max_results=10&tweet.fields=created_at,id,text\n"
     ]
    },
    {
     "data": {
      "text/plain": [
       "{'data': [{'edit_history_tweet_ids': ['1587438258799116294'],\n",
       "   'text': 'Resultat du match RL : Karmine Corp vs Oxygen Esports !\\nDéfaite : 2 - 4\\nMoment fort : https://t.co/THwbMO4Xsd\\n#KCORP #KCWIN',\n",
       "   'created_at': '2022-11-01T13:35:48.000Z',\n",
       "   'id': '1587438258799116294'},\n",
       "  {'edit_history_tweet_ids': ['1587434668722458631'],\n",
       "   'text': '@Issov_ Je rejoins Karmine Corp -&gt; Je quitte Karmine  Corp \\nIl serait roi du monde actuellement',\n",
       "   'created_at': '2022-11-01T13:21:32.000Z',\n",
       "   'id': '1587434668722458631'},\n",
       "  {'edit_history_tweet_ids': ['1587412594855395328'],\n",
       "   'text': '@Hanteralol En te souhaitant le meilleur pour la suite ,que ca sois avec ou sans Karmine, ton année a vraiment été convaincante, un plaisir de te voir jouer meme si on aimerait te voir un peu plus jouer dans ton propre style (comme en soloQ)',\n",
       "   'created_at': '2022-11-01T11:53:49.000Z',\n",
       "   'id': '1587412594855395328'},\n",
       "  {'edit_history_tweet_ids': ['1587387685152456705'],\n",
       "   'text': 'La Karmine Corp domine la Hex League, Canbizz sacré champion de France #esport #eSports https://t.co/37SkTRvniO',\n",
       "   'created_at': '2022-11-01T10:14:51.000Z',\n",
       "   'id': '1587387685152456705'},\n",
       "  {'edit_history_tweet_ids': ['1587378534502252544'],\n",
       "   'text': 'Hier soir, @Canbizz_ a été sacré champion de France de #TFT 🏆🇫🇷\\n\\n🗞️ https://t.co/8EBUmDiaZF\\n\\nJoueur le plus régulier du tournoi, il succède à @Voltariuxwow au palmarès de la #HexLeague 👏 https://t.co/Ltlnr6ettL',\n",
       "   'created_at': '2022-11-01T09:38:29.000Z',\n",
       "   'id': '1587378534502252544'},\n",
       "  {'edit_history_tweet_ids': ['1587355928302608386'],\n",
       "   'text': '113 - LE PORTRAIT par la Karmine Corp https://t.co/Du3EBywJIh',\n",
       "   'created_at': '2022-11-01T08:08:39.000Z',\n",
       "   'id': '1587355928302608386'},\n",
       "  {'edit_history_tweet_ids': ['1587258963208421377'],\n",
       "   'text': \"@LcSHDf bref tu veux une bonne équipe à regarder sur n'importe quel jeu de Riot ? La Karmine Corp c'est une réponse évidente ;)\",\n",
       "   'created_at': '2022-11-01T01:43:21.000Z',\n",
       "   'id': '1587258963208421377'},\n",
       "  {'edit_history_tweet_ids': ['1587236479331352578'],\n",
       "   'text': 'Prochain match LOL : LDLC OL vs Karmine Corp !\\nDate : Samedi 05 novembre à 11:00\\nTournoi : Coupe de France 2022\\n#KCORP #KCWIN',\n",
       "   'created_at': '2022-11-01T00:14:00.000Z',\n",
       "   'id': '1587236479331352578'},\n",
       "  {'edit_history_tweet_ids': ['1587208574840848390'],\n",
       "   'text': 'Stalinienne la Karmine GG les gars 😎 https://t.co/Lr8OBioD3D',\n",
       "   'created_at': '2022-10-31T22:23:07.000Z',\n",
       "   'id': '1587208574840848390'},\n",
       "  {'edit_history_tweet_ids': ['1587208503080411137'],\n",
       "   'text': 'Champion et vice-champion de France, la dictature Karmine. https://t.co/Ecy3jJTPSm',\n",
       "   'created_at': '2022-10-31T22:22:50.000Z',\n",
       "   'id': '1587208503080411137'}],\n",
       " 'meta': {'newest_id': '1587438258799116294',\n",
       "  'oldest_id': '1587208503080411137',\n",
       "  'result_count': 10,\n",
       "  'next_token': 'b26v89c19zqg8o3fpzemdy17muv3nfrchi46mfbtmoe4d'}}"
      ]
     },
     "execution_count": 3,
     "metadata": {},
     "output_type": "execute_result"
    }
   ],
   "source": [
    "params = dict()\n",
    "\n",
    "params['keywords_and'] = input(\"Mot clés obligatoires du tweet \\n\").split(' ')\n",
    "params['lang'] = input(\"Language du tweet recherché\\n\")\n",
    "params['max_results'] = input(\"Nombre de tweets recupérés maximum\\n\")\n",
    "\n",
    "for element in list(params.keys()) :\n",
    "    if params[element] == '':\n",
    "        del params[element]\n",
    "\n",
    "# Temps de requete a return\n",
    "resp = Twitter.getTweets(\n",
    "    ** params\n",
    ")\n",
    "resp"
   ]
  },
  {
   "cell_type": "code",
   "execution_count": 4,
   "id": "66f0bbfc",
   "metadata": {
    "pycharm": {
     "name": "#%%\n"
    }
   },
   "outputs": [
    {
     "data": {
      "text/html": [
       "<div>\n",
       "<style scoped>\n",
       "    .dataframe tbody tr th:only-of-type {\n",
       "        vertical-align: middle;\n",
       "    }\n",
       "\n",
       "    .dataframe tbody tr th {\n",
       "        vertical-align: top;\n",
       "    }\n",
       "\n",
       "    .dataframe thead th {\n",
       "        text-align: right;\n",
       "    }\n",
       "</style>\n",
       "<table border=\"1\" class=\"dataframe\">\n",
       "  <thead>\n",
       "    <tr style=\"text-align: right;\">\n",
       "      <th></th>\n",
       "      <th>edit_history_tweet_ids</th>\n",
       "      <th>text</th>\n",
       "      <th>created_at</th>\n",
       "      <th>id</th>\n",
       "    </tr>\n",
       "  </thead>\n",
       "  <tbody>\n",
       "    <tr>\n",
       "      <th>0</th>\n",
       "      <td>[1587438258799116294]</td>\n",
       "      <td>Resultat du match RL : Karmine Corp vs Oxygen ...</td>\n",
       "      <td>2022-11-01T13:35:48.000Z</td>\n",
       "      <td>1587438258799116294</td>\n",
       "    </tr>\n",
       "    <tr>\n",
       "      <th>1</th>\n",
       "      <td>[1587434668722458631]</td>\n",
       "      <td>@Issov_ Je rejoins Karmine Corp -&amp;gt; Je quitt...</td>\n",
       "      <td>2022-11-01T13:21:32.000Z</td>\n",
       "      <td>1587434668722458631</td>\n",
       "    </tr>\n",
       "    <tr>\n",
       "      <th>2</th>\n",
       "      <td>[1587412594855395328]</td>\n",
       "      <td>@Hanteralol En te souhaitant le meilleur pour ...</td>\n",
       "      <td>2022-11-01T11:53:49.000Z</td>\n",
       "      <td>1587412594855395328</td>\n",
       "    </tr>\n",
       "    <tr>\n",
       "      <th>3</th>\n",
       "      <td>[1587387685152456705]</td>\n",
       "      <td>La Karmine Corp domine la Hex League, Canbizz ...</td>\n",
       "      <td>2022-11-01T10:14:51.000Z</td>\n",
       "      <td>1587387685152456705</td>\n",
       "    </tr>\n",
       "    <tr>\n",
       "      <th>4</th>\n",
       "      <td>[1587378534502252544]</td>\n",
       "      <td>Hier soir, @Canbizz_ a été sacré champion de F...</td>\n",
       "      <td>2022-11-01T09:38:29.000Z</td>\n",
       "      <td>1587378534502252544</td>\n",
       "    </tr>\n",
       "    <tr>\n",
       "      <th>5</th>\n",
       "      <td>[1587355928302608386]</td>\n",
       "      <td>113 - LE PORTRAIT par la Karmine Corp https://...</td>\n",
       "      <td>2022-11-01T08:08:39.000Z</td>\n",
       "      <td>1587355928302608386</td>\n",
       "    </tr>\n",
       "    <tr>\n",
       "      <th>6</th>\n",
       "      <td>[1587258963208421377]</td>\n",
       "      <td>@LcSHDf bref tu veux une bonne équipe à regard...</td>\n",
       "      <td>2022-11-01T01:43:21.000Z</td>\n",
       "      <td>1587258963208421377</td>\n",
       "    </tr>\n",
       "    <tr>\n",
       "      <th>7</th>\n",
       "      <td>[1587236479331352578]</td>\n",
       "      <td>Prochain match LOL : LDLC OL vs Karmine Corp !...</td>\n",
       "      <td>2022-11-01T00:14:00.000Z</td>\n",
       "      <td>1587236479331352578</td>\n",
       "    </tr>\n",
       "    <tr>\n",
       "      <th>8</th>\n",
       "      <td>[1587208574840848390]</td>\n",
       "      <td>Stalinienne la Karmine GG les gars 😎 https://t...</td>\n",
       "      <td>2022-10-31T22:23:07.000Z</td>\n",
       "      <td>1587208574840848390</td>\n",
       "    </tr>\n",
       "    <tr>\n",
       "      <th>9</th>\n",
       "      <td>[1587208503080411137]</td>\n",
       "      <td>Champion et vice-champion de France, la dictat...</td>\n",
       "      <td>2022-10-31T22:22:50.000Z</td>\n",
       "      <td>1587208503080411137</td>\n",
       "    </tr>\n",
       "  </tbody>\n",
       "</table>\n",
       "</div>"
      ],
      "text/plain": [
       "  edit_history_tweet_ids                                               text  \\\n",
       "0  [1587438258799116294]  Resultat du match RL : Karmine Corp vs Oxygen ...   \n",
       "1  [1587434668722458631]  @Issov_ Je rejoins Karmine Corp -&gt; Je quitt...   \n",
       "2  [1587412594855395328]  @Hanteralol En te souhaitant le meilleur pour ...   \n",
       "3  [1587387685152456705]  La Karmine Corp domine la Hex League, Canbizz ...   \n",
       "4  [1587378534502252544]  Hier soir, @Canbizz_ a été sacré champion de F...   \n",
       "5  [1587355928302608386]  113 - LE PORTRAIT par la Karmine Corp https://...   \n",
       "6  [1587258963208421377]  @LcSHDf bref tu veux une bonne équipe à regard...   \n",
       "7  [1587236479331352578]  Prochain match LOL : LDLC OL vs Karmine Corp !...   \n",
       "8  [1587208574840848390]  Stalinienne la Karmine GG les gars 😎 https://t...   \n",
       "9  [1587208503080411137]  Champion et vice-champion de France, la dictat...   \n",
       "\n",
       "                 created_at                   id  \n",
       "0  2022-11-01T13:35:48.000Z  1587438258799116294  \n",
       "1  2022-11-01T13:21:32.000Z  1587434668722458631  \n",
       "2  2022-11-01T11:53:49.000Z  1587412594855395328  \n",
       "3  2022-11-01T10:14:51.000Z  1587387685152456705  \n",
       "4  2022-11-01T09:38:29.000Z  1587378534502252544  \n",
       "5  2022-11-01T08:08:39.000Z  1587355928302608386  \n",
       "6  2022-11-01T01:43:21.000Z  1587258963208421377  \n",
       "7  2022-11-01T00:14:00.000Z  1587236479331352578  \n",
       "8  2022-10-31T22:23:07.000Z  1587208574840848390  \n",
       "9  2022-10-31T22:22:50.000Z  1587208503080411137  "
      ]
     },
     "execution_count": 4,
     "metadata": {},
     "output_type": "execute_result"
    }
   ],
   "source": [
    "dataframe = pd.DataFrame(resp['data'])\n",
    "dataframe"
   ]
  },
  {
   "cell_type": "code",
   "execution_count": null,
   "id": "13b7c407",
   "metadata": {
    "pycharm": {
     "name": "#%%\n"
    }
   },
   "outputs": [],
   "source": [
    "dataframe.to_csv(\"raw_test.csv\")"
   ]
  }
 ],
 "metadata": {
  "kernelspec": {
   "display_name": "Python 3",
   "language": "python",
   "name": "python3"
  },
  "language_info": {
   "codemirror_mode": {
    "name": "ipython",
    "version": 3
   },
   "file_extension": ".py",
   "mimetype": "text/x-python",
   "name": "python",
   "nbconvert_exporter": "python",
   "pygments_lexer": "ipython3",
   "version": "3.13.0"
  }
 },
 "nbformat": 4,
 "nbformat_minor": 5
}
